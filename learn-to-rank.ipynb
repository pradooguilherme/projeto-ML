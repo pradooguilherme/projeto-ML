{
 "cells": [
  {
   "cell_type": "code",
   "execution_count": 2,
   "id": "initial_id",
   "metadata": {
    "ExecuteTime": {
     "end_time": "2025-10-27T14:32:59.415535Z",
     "start_time": "2025-10-27T14:32:59.074300Z"
    }
   },
   "outputs": [
    {
     "name": "stdout",
     "output_type": "stream",
     "text": [
      "{'name': '3a728dd319ba', 'cluster_name': 'docker-cluster', 'cluster_uuid': 'WO2zj9DLSoaLWbLwQ2v37A', 'version': {'number': '8.15.0', 'build_flavor': 'default', 'build_type': 'docker', 'build_hash': '1a77947f34deddb41af25e6f0ddb8e830159c179', 'build_date': '2024-08-05T10:05:34.233336849Z', 'build_snapshot': False, 'lucene_version': '9.11.1', 'minimum_wire_compatibility_version': '7.17.0', 'minimum_index_compatibility_version': '7.0.0'}, 'tagline': 'You Know, for Search'}\n"
     ]
    }
   ],
   "source": [
    "# Feito a conexão ao contêiner local\n",
    "\n",
    "from elasticsearch import Elasticsearch\n",
    "es = Elasticsearch(\"http://localhost:9200\")\n",
    "print(es.info())"
   ]
  },
  {
   "cell_type": "code",
   "execution_count": 8,
   "id": "a9f2ac5b-7610-412b-a67f-ad458f9fb10c",
   "metadata": {},
   "outputs": [
    {
     "name": "stdout",
     "output_type": "stream",
     "text": [
      "(2225, 4)\n",
      "   id category                             title  \\\n",
      "0   0     tech  Looks and music to drive mobiles   \n",
      "1   1     tech   Hi-tech posters guide commuters   \n",
      "2   2     tech      Xbox power cable 'fire fear'   \n",
      "3   3     tech  Games win for Blu-ray DVD format   \n",
      "4   4     tech  PC photo printers challenge pros   \n",
      "5   5     tech  Software watching while you work   \n",
      "6   6     tech    Online commons to spark debate   \n",
      "7   7     tech  Apple sues to stop product leaks   \n",
      "8   8     tech           Broadband soars in 2004   \n",
      "9   9     tech  Pandas benefit from wireless net   \n",
      "\n",
      "                                                text  \n",
      "0  Mobile phones are still enjoying a boom time i...  \n",
      "1  Interactive posters are helping Londoners get ...  \n",
      "2  Microsoft has said it will replace more than 1...  \n",
      "3  The next-generation DVD format Blu-ray is winn...  \n",
      "4  Home printed pictures can be cheaper and highe...  \n",
      "5  Software that can not only monitor every keyst...  \n",
      "6  Online communities set up by the UK government...  \n",
      "7  Computer firm Apple has issued a lawsuit to pr...  \n",
      "8  If broadband were a jumbo jet, then 2003 would...  \n",
      "9  The world's dwindling panda population is gett...  \n"
     ]
    }
   ],
   "source": [
    "\"\"\"\n",
    "É criado o dataframe do dataset.\n",
    "\n",
    "Explicação:\n",
    "\n",
    "Acessamos o caminho \"./dataset/bbc\"\n",
    "Para cada item na pasta (categoria) adicionamos ao 'data':\n",
    "    id,\n",
    "    categoria (nome da pasta),\n",
    "    title (primeira linha do arquivo),\n",
    "    text (texto do artigo)\n",
    "\"\"\"\n",
    "\n",
    "import os\n",
    "import pandas as pd\n",
    "\n",
    "path = \"./dataset/bbc\"\n",
    "data = []\n",
    "id_counter = 0\n",
    "\n",
    "for category in os.listdir(path):\n",
    "    category_path = os.path.join(path, category)\n",
    "\n",
    "    if os.path.isdir(category_path):\n",
    "\n",
    "        for filename in os.listdir(category_path):\n",
    "            if filename.endswith(\".txt\"):\n",
    "                file_path = os.path.join(category_path, filename)\n",
    "\n",
    "                with open(file_path, \"r\", encoding=\"latin1\") as f:\n",
    "                    text = f.read().strip()\n",
    "\n",
    "                lines = text.split(\"\\n\")\n",
    "                title = lines[0].strip() if len(lines) > 0 else \"\"\n",
    "                full_text = \" \".join(lines[1:]).strip() if len(lines) > 1 else title\n",
    "\n",
    "                data.append({\n",
    "                    \"id\": id_counter,\n",
    "                    \"category\": category,\n",
    "                    \"title\": title,\n",
    "                    \"text\": full_text\n",
    "                })\n",
    "\n",
    "                id_counter += 1\n",
    "\n",
    "df = pd.DataFrame(data, columns=[\"id\",\"category\",\"title\",\"text\"])\n",
    "print(df.shape)\n",
    "print(df.head(10))"
   ]
  },
  {
   "cell_type": "code",
   "execution_count": 10,
   "id": "a7b286b7-3cc1-48ba-a910-35570012cd40",
   "metadata": {},
   "outputs": [
    {
     "name": "stdout",
     "output_type": "stream",
     "text": [
      "Tamanho do treino: 1557\n",
      "Tamanho do teste: 668\n"
     ]
    }
   ],
   "source": [
    "# Feito um holdout (70/30) no DataFrame\n",
    "# Obs: Provavelmente não é a melhor abordagem. Poderíamos fazer isso após gerar o dataframe para o treinamento do LTR algorithm.\n",
    "\n",
    "from sklearn.model_selection import train_test_split\n",
    "\n",
    "train_df, test_df = train_test_split(\n",
    "    df,\n",
    "    test_size=0.3,\n",
    "    random_state=42,\n",
    "    stratify=df['category']\n",
    ")\n",
    "\n",
    "print(\"Tamanho do treino:\", len(train_df))\n",
    "print(\"Tamanho do teste:\", len(test_df))\n"
   ]
  },
  {
   "cell_type": "code",
   "execution_count": 12,
   "id": "5fa01190-31c2-4766-a87e-3cd16b2f4b1c",
   "metadata": {},
   "outputs": [
    {
     "name": "stdout",
     "output_type": "stream",
     "text": [
      "Collecting tqdm\n",
      "  Downloading tqdm-4.67.1-py3-none-any.whl.metadata (57 kB)\n",
      "Downloading tqdm-4.67.1-py3-none-any.whl (78 kB)\n",
      "Installing collected packages: tqdm\n",
      "Successfully installed tqdm-4.67.1\n"
     ]
    }
   ],
   "source": [
    "!pip install tqdm"
   ]
  },
  {
   "cell_type": "code",
   "execution_count": 14,
   "id": "f6269c95-d92e-4a8e-b4af-e1d7f8df8743",
   "metadata": {},
   "outputs": [
    {
     "name": "stderr",
     "output_type": "stream",
     "text": [
      "100%|██████████████████████████████████████████████████████████████████████████████████████████| 1557/1557 [00:13<00:00, 119.09it/s]\n"
     ]
    }
   ],
   "source": [
    "# Criamos um index no formato 'mapping' e adicionamos todos os documentos (no formato do índice declarado) ao nosso contêiner local.\n",
    "\n",
    "from tqdm import tqdm\n",
    "\n",
    "index_name = \"bbc_articles\"\n",
    "\n",
    "if es.indices.exists(index=index_name):\n",
    "    es.indices.delete(index=index_name)\n",
    "\n",
    "mapping = {\n",
    "    \"mappings\":{\n",
    "        \"properties\": {\n",
    "            \"title\": {\"type\":\"text\"},\n",
    "            \"text\": {\"type\":\"text\"},\n",
    "            \"category\": {\"type\":\"keyword\"}\n",
    "        }\n",
    "    }\n",
    "}\n",
    "\n",
    "es.indices.create(index=index_name, body=mapping)\n",
    "\n",
    "for _, row in tqdm(train_df.iterrows(), total=len(train_df)):\n",
    "    doc = {\n",
    "        \"title\": row[\"title\"],\n",
    "        \"text\": row[\"text\"],\n",
    "        \"category\": row[\"category\"]\n",
    "    }\n",
    "    es.index(index=index_name, id=int(row[\"id\"]), document=doc)"
   ]
  },
  {
   "cell_type": "code",
   "execution_count": 17,
   "id": "9eaae6b0-0e97-4248-a655-4afba51426ca",
   "metadata": {},
   "outputs": [
    {
     "name": "stdout",
     "output_type": "stream",
     "text": [
      "10.023342 -> Markets signal Brazilian recovery\n",
      "9.773174 -> Japan economy slides to recession\n",
      "9.589449 -> Japanese growth grinds to a halt\n",
      "9.490807 -> Brazil jobless rate hits new low\n",
      "8.596207 -> Parties warned over 'grey vote'\n",
      "8.546261 -> BBC poll indicates economic gloom\n",
      "7.951545 -> US trade deficit widens sharply\n",
      "7.8857813 -> Newest EU members underpin growth\n",
      "7.743498 -> 'Strong dollar' call halts slide\n",
      "7.718348 -> Blair backs 'pre-election budget'\n"
     ]
    }
   ],
   "source": [
    "# Exemplo de uma consulta em nossos documentos indexados. Utiliza o BM-25 para realizar a busca (lexical search).\n",
    "\n",
    "query = {\n",
    "    \"query\": {\n",
    "        \"match\": {\n",
    "            \"text\": \"government policy economy\"\n",
    "        }\n",
    "    }\n",
    "}\n",
    "\n",
    "res = es.search(index=index_name, body=query)\n",
    "for hit in res['hits']['hits']:\n",
    "    print(hit['_score'], \"->\", hit['_source']['title'])"
   ]
  },
  {
   "cell_type": "code",
   "execution_count": 32,
   "id": "755f9c6a-6d01-4ebd-9cf2-adeb2ef0a13c",
   "metadata": {},
   "outputs": [
    {
     "name": "stdout",
     "output_type": "stream",
     "text": [
      "   query_id                  query_text doc_id  bm25_score  relevance  \\\n",
      "0         1  latest stock market trends    651   10.705631          1   \n",
      "1         1  latest stock market trends    611   10.473111          1   \n",
      "2         1  latest stock market trends    496    9.555423          1   \n",
      "3         1  latest stock market trends    823    9.221897          1   \n",
      "4         1  latest stock market trends    545    8.787973          1   \n",
      "5         1  latest stock market trends    889    8.747120          1   \n",
      "6         1  latest stock market trends     43    8.713518          0   \n",
      "7         1  latest stock market trends    315    8.713518          0   \n",
      "8         1  latest stock market trends    411    8.533895          1   \n",
      "9         1  latest stock market trends    649    8.480694          1   \n",
      "\n",
      "  doc_category query_category  \n",
      "0     business       business  \n",
      "1     business       business  \n",
      "2     business       business  \n",
      "3     business       business  \n",
      "4     business       business  \n",
      "5     business       business  \n",
      "6         tech       business  \n",
      "7         tech       business  \n",
      "8     business       business  \n",
      "9     business       business  \n"
     ]
    }
   ],
   "source": [
    "# É criado o DataFrame que será utilizado para o treinamento do nosso algoritmo LTR.\n",
    "# Utilizamos 30 consultas (5 tipos, cada um com 6 consultas diferentes)\n",
    "# Percorremos as categorias das consultas e assim, as suas consultas associadas realizando buscas em nossos documentos indexados.\n",
    "# Em nosso DataFrame adicionamos: id da query, texto da query, id do documento, score do bm-25, relevância, categoria do doc e da query.\n",
    "\n",
    "queries = {\n",
    "    \"business\": [\n",
    "        \"latest stock market trends\",\n",
    "        \"company profits and earnings reports\",\n",
    "        \"impact of inflation on global economy\",\n",
    "        \"business mergers and acquisitions news\",\n",
    "        \"rise of startups in finance sector\",\n",
    "        \"oil prices and economic growth\"\n",
    "    ],\n",
    "    \"entertainment\": [\n",
    "        \"new movie releases this month\",\n",
    "        \"celebrity awards and red carpet events\",\n",
    "        \"top streaming series of the year\",\n",
    "        \"music festivals and live performances\",\n",
    "        \"film reviews from critics\",\n",
    "        \"box office hits and records\"\n",
    "    ],\n",
    "    \"politics\": [\n",
    "        \"government election campaign promises\",\n",
    "        \"international relations and diplomacy\",\n",
    "        \"new legislation passed by parliament\",\n",
    "        \"political debates on climate change\",\n",
    "        \"public opinion on government policies\",\n",
    "        \"european union policy changes\"\n",
    "    ],\n",
    "    \"sport\": [\n",
    "        \"football world cup latest scores\",\n",
    "        \"tennis grand slam results\",\n",
    "        \"athletes preparing for olympic games\",\n",
    "        \"transfer news in premier league\",\n",
    "        \"team rankings in international cricket\",\n",
    "        \"basketball championship finals highlights\"\n",
    "    ],\n",
    "    \"tech\": [\n",
    "        \"latest smartphone innovations\",\n",
    "        \"artificial intelligence in healthcare\",\n",
    "        \"cybersecurity and data breaches\",\n",
    "        \"new software development frameworks\",\n",
    "        \"future of quantum computing\",\n",
    "        \"robotics and automation in industry\"\n",
    "    ]\n",
    "}\n",
    "\n",
    "ltr_data = []\n",
    "query_id = 0\n",
    "\n",
    "for category, query_list in queries.items():\n",
    "    for query_text in query_list:\n",
    "        query_id += 1\n",
    "\n",
    "        query_body = {\n",
    "            \"size\":50,\n",
    "            \"query\":{\n",
    "                \"multi_match\": {\n",
    "                    \"query\": query_text,\n",
    "                    \"fields\":[\"title\",\"text\"]\n",
    "                }\n",
    "            }\n",
    "        }\n",
    "\n",
    "        res = es.search(index=index_name, body=query_body)\n",
    "\n",
    "        for hit in res[\"hits\"][\"hits\"]:\n",
    "            doc_id = hit[\"_id\"]\n",
    "            score = hit[\"_score\"]\n",
    "            doc_category = hit[\"_source\"][\"category\"]\n",
    "    \n",
    "            relevance = 1 if doc_category == category else 0\n",
    "    \n",
    "            ltr_data.append({\n",
    "                \"query_id\": query_id,\n",
    "                \"query_text\": query_text,\n",
    "                \"doc_id\": doc_id,\n",
    "                \"bm25_score\":score,\n",
    "                \"relevance\": relevance,\n",
    "                \"doc_category\": doc_category,\n",
    "                \"query_category\": category\n",
    "            })\n",
    "\n",
    "ltr_df = pd.DataFrame(ltr_data)\n",
    "print(ltr_df.head(10))\n",
    "ltr_df.to_csv(\"ltr_dataset.csv\",index=False)"
   ]
  },
  {
   "cell_type": "code",
   "execution_count": 49,
   "id": "1862b008-c8b1-4e07-86c9-8149a5e5d497",
   "metadata": {},
   "outputs": [
    {
     "name": "stdout",
     "output_type": "stream",
     "text": [
      "Requirement already satisfied: lightgbm in ./venv/lib/python3.12/site-packages (4.6.0)\n",
      "Requirement already satisfied: numpy>=1.17.0 in ./venv/lib/python3.12/site-packages (from lightgbm) (2.3.4)\n",
      "Requirement already satisfied: scipy in ./venv/lib/python3.12/site-packages (from lightgbm) (1.16.2)\n",
      "Requirement already satisfied: scikit_learn in ./venv/lib/python3.12/site-packages (1.7.2)\n",
      "Requirement already satisfied: numpy>=1.22.0 in ./venv/lib/python3.12/site-packages (from scikit_learn) (2.3.4)\n",
      "Requirement already satisfied: scipy>=1.8.0 in ./venv/lib/python3.12/site-packages (from scikit_learn) (1.16.2)\n",
      "Requirement already satisfied: joblib>=1.2.0 in ./venv/lib/python3.12/site-packages (from scikit_learn) (1.5.2)\n",
      "Requirement already satisfied: threadpoolctl>=3.1.0 in ./venv/lib/python3.12/site-packages (from scikit_learn) (3.6.0)\n"
     ]
    }
   ],
   "source": [
    "!pip install lightgbm\n",
    "!pip install scikit_learn"
   ]
  },
  {
   "cell_type": "code",
   "id": "6584ea44-432c-4b42-b855-c9c9696acd8e",
   "metadata": {
    "ExecuteTime": {
     "end_time": "2025-10-27T22:09:28.340880Z",
     "start_time": "2025-10-27T22:09:24.626600Z"
    }
   },
   "source": [
    "# É treinado um modelo 'LambdaRANK' em nosso DataFrame de treinamento.\n",
    "# Ele utiliza uma feature (bm-25 score) para predizer a relevância do documento\n",
    "# Veja que utilizar apenas uma feature (bm-25 score) faz com que nosso modelo atue como o BM-25.\n",
    "# Adicionaremos mais features para tornar o ranqueamento mais inteligente.\n",
    "\n",
    "import lightgbm as lgb\n",
    "\n",
    "X = ltr_df[['bm25_score']]\n",
    "y = ltr_df['relevance']\n",
    "\n",
    "num_queries = ltr_df['query_id'].nunique()\n",
    "docs_per_query = 50\n",
    "\n",
    "group_sizes = [docs_per_query] * num_queries\n",
    "\n",
    "train_data = lgb.Dataset(X, label=y, group=group_sizes)\n",
    "\n",
    "params = {\n",
    "    \"objective\":\"lambdarank\",\n",
    "    \"metric\": \"ndcg\",\n",
    "    \"ndcg_eval_at\":[10],\n",
    "    \"learning_rate\": 0.05,\n",
    "    \"num_leaves\":31,\n",
    "    \"min_data_in_leaf\": 20,\n",
    "    \"verbose\": -1\n",
    "}\n",
    "\n",
    "model = lgb.train(params, train_data, num_boost_round=150)\n",
    "model.save_model(\"ltr_model.txt\")"
   ],
   "outputs": [
    {
     "ename": "NameError",
     "evalue": "name 'ltr_df' is not defined",
     "output_type": "error",
     "traceback": [
      "\u001B[31m---------------------------------------------------------------------------\u001B[39m",
      "\u001B[31mNameError\u001B[39m                                 Traceback (most recent call last)",
      "\u001B[36mCell\u001B[39m\u001B[36m \u001B[39m\u001B[32mIn[1]\u001B[39m\u001B[32m, line 7\u001B[39m\n\u001B[32m      4\u001B[39m \u001B[38;5;28;01mimport\u001B[39;00m\u001B[38;5;250m \u001B[39m\u001B[34;01mlightgbm\u001B[39;00m\u001B[38;5;250m \u001B[39m\u001B[38;5;28;01mas\u001B[39;00m\u001B[38;5;250m \u001B[39m\u001B[34;01mlgb\u001B[39;00m\n\u001B[32m      5\u001B[39m \u001B[38;5;28;01mfrom\u001B[39;00m\u001B[38;5;250m \u001B[39m\u001B[34;01msklearn\u001B[39;00m\u001B[34;01m.\u001B[39;00m\u001B[34;01mmetrics\u001B[39;00m\u001B[38;5;250m \u001B[39m\u001B[38;5;28;01mimport\u001B[39;00m ndcg_score\n\u001B[32m----> \u001B[39m\u001B[32m7\u001B[39m X = \u001B[43mltr_df\u001B[49m[[\u001B[33m'\u001B[39m\u001B[33mbm25_score\u001B[39m\u001B[33m'\u001B[39m]]\n\u001B[32m      8\u001B[39m y = ltr_df[\u001B[33m'\u001B[39m\u001B[33mrelevance\u001B[39m\u001B[33m'\u001B[39m]\n\u001B[32m     10\u001B[39m num_queries = ltr_df[\u001B[33m'\u001B[39m\u001B[33mquery_id\u001B[39m\u001B[33m'\u001B[39m].nunique()\n",
      "\u001B[31mNameError\u001B[39m: name 'ltr_df' is not defined"
     ]
    }
   ],
   "execution_count": 1
  }
 ],
 "metadata": {
  "kernelspec": {
   "display_name": "Python 3 (ipykernel)",
   "language": "python",
   "name": "python3"
  },
  "language_info": {
   "codemirror_mode": {
    "name": "ipython",
    "version": 3
   },
   "file_extension": ".py",
   "mimetype": "text/x-python",
   "name": "python",
   "nbconvert_exporter": "python",
   "pygments_lexer": "ipython3",
   "version": "3.12.2"
  }
 },
 "nbformat": 4,
 "nbformat_minor": 5
}
